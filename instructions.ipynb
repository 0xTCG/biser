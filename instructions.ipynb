{
 "cells": [
  {
   "cell_type": "code",
   "execution_count": null,
   "source": [
    "# For running BISER on one species, run:\n",
    "!cd exec/\n",
    "./biser_1s.sh  -o <output> -j <jobs> <hard_masked_genome> \n",
    "\n",
    "# example:\n",
    "# ./biser_1s.sh -o biser_out_hg19 -j 8 hg19_hard_masked.fa"
   ],
   "outputs": [],
   "metadata": {}
  },
  {
   "cell_type": "code",
   "execution_count": null,
   "source": [
    "# For running BISER on multiple species, run:\n",
    "!cd exec/\n",
    "!./biser_ms.sh  -o <output> -j <jobs> <destionation_where_hard_masked_genomes_are> \n",
    "\n",
    "# example:\n",
    "# ./biser_ms.sh -o biser_out_ms/ -j 8 data/genomes/"
   ],
   "outputs": [],
   "metadata": {}
  },
  {
   "cell_type": "code",
   "execution_count": null,
   "source": [
    "# For running k-mer chaining decomposition, run:\n",
    "./decompose.sh <path_to_bed_files> <path_to_genome> <output>\n",
    "\n",
    "# example:\n",
    "./decompose.sh hg19_output_sds/ data/genomes/hg19_hard_masked.fa output/kmer_chaining/"
   ],
   "outputs": [],
   "metadata": {}
  },
  {
   "cell_type": "code",
   "execution_count": null,
   "source": [
    "# For building phylogeny tree:\n",
    "!cd src/phlogeny/\n",
    "!seqc run -release group.seq <path_to_coordinates> <path_to_elementaries> <output_distances> <output_regions_w_elems>\n",
    "\n",
    "# For UPGMA, run:\n",
    "!pyhton3 upgma.py\n",
    "# Just modify input parameters\n",
    "\n",
    "# For plotting decompositions on certain regions, visit plot_intervals.ipynb script"
   ],
   "outputs": [],
   "metadata": {}
  }
 ],
 "metadata": {
  "orig_nbformat": 4,
  "language_info": {
   "name": "python"
  }
 },
 "nbformat": 4,
 "nbformat_minor": 2
}